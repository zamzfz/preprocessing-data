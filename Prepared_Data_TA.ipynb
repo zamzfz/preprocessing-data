{
  "nbformat": 4,
  "nbformat_minor": 0,
  "metadata": {
    "colab": {
      "name": "Prepared Data TA.ipynb",
      "provenance": [],
      "collapsed_sections": [],
      "authorship_tag": "ABX9TyN22piCheEJ+1xY/aNhqpZe",
      "include_colab_link": true
    },
    "kernelspec": {
      "name": "python3",
      "display_name": "Python 3"
    }
  },
  "cells": [
    {
      "cell_type": "markdown",
      "metadata": {
        "id": "view-in-github",
        "colab_type": "text"
      },
      "source": [
        "<a href=\"https://colab.research.google.com/github/zamzfz/preprocessing-data/blob/master/Prepared_Data_TA.ipynb\" target=\"_parent\"><img src=\"https://colab.research.google.com/assets/colab-badge.svg\" alt=\"Open In Colab\"/></a>"
      ]
    },
    {
      "cell_type": "code",
      "metadata": {
        "id": "Kzca9xQV7WW0",
        "colab_type": "code",
        "colab": {
          "base_uri": "https://localhost:8080/",
          "height": 184
        },
        "outputId": "ebb32d61-a116-4774-c857-5fb25e9799dd"
      },
      "source": [
        "from nltk.corpus import stopwords\n",
        "from nltk.tokenize import sent_tokenize\n",
        "import pandas as pd\n",
        "import nltk\n",
        "nltk.download('stopwords')\n",
        "nltk.download('wordnet')\n",
        "nltk.download('punkt')\n",
        "nltk.download('averaged_perceptron_tagger') \n",
        "from nltk.stem import PorterStemmer \n",
        "from nltk.tokenize import word_tokenize"
      ],
      "execution_count": 57,
      "outputs": [
        {
          "output_type": "stream",
          "text": [
            "[nltk_data] Downloading package stopwords to /root/nltk_data...\n",
            "[nltk_data]   Package stopwords is already up-to-date!\n",
            "[nltk_data] Downloading package wordnet to /root/nltk_data...\n",
            "[nltk_data]   Package wordnet is already up-to-date!\n",
            "[nltk_data] Downloading package punkt to /root/nltk_data...\n",
            "[nltk_data]   Package punkt is already up-to-date!\n",
            "[nltk_data] Downloading package averaged_perceptron_tagger to\n",
            "[nltk_data]     /root/nltk_data...\n",
            "[nltk_data]   Package averaged_perceptron_tagger is already up-to-\n",
            "[nltk_data]       date!\n"
          ],
          "name": "stdout"
        }
      ]
    },
    {
      "cell_type": "code",
      "metadata": {
        "colab_type": "code",
        "id": "v4oQLKhGWyNy",
        "colab": {}
      },
      "source": [
        "# read data and see sum of value label\n",
        "df = pd.read_excel('prposal_data.xlsx')\n",
        "df['label']\n",
        "count = 0\n",
        "for i in df['label']:\n",
        "  if i == 1:\n",
        "    count+=1\n",
        "print(count)"
      ],
      "execution_count": 0,
      "outputs": []
    },
    {
      "cell_type": "code",
      "metadata": {
        "id": "FotlcItCW3gU",
        "colab_type": "code",
        "colab": {
          "base_uri": "https://localhost:8080/",
          "height": 33
        },
        "outputId": "2af363f7-7042-416a-b066-37bb19d4c09a"
      },
      "source": [
        "# stopword removal\n",
        "text = \"daylight is a great film i saw a nonmatinee showing of it  and i thought it was worth every penny\"\n",
        "text_tokens = word_tokenize(text)\n",
        "\n",
        "tokens_without_sw = [word for word in text_tokens if not word in stopwords.words()]\n",
        "\n",
        "print(tokens_without_sw)"
      ],
      "execution_count": 52,
      "outputs": [
        {
          "output_type": "stream",
          "text": [
            "['daylight', 'great', 'film', 'saw', 'nonmatinee', 'showing', 'thought', 'worth', 'every', 'penny']\n"
          ],
          "name": "stdout"
        }
      ]
    },
    {
      "cell_type": "code",
      "metadata": {
        "id": "2Ey18rqSXWMB",
        "colab_type": "code",
        "colab": {
          "base_uri": "https://localhost:8080/",
          "height": 184
        },
        "outputId": "dd917a86-5e07-4d66-cc35-878838de6680"
      },
      "source": [
        "# stemming \n",
        "ps = PorterStemmer() \n",
        "  \n",
        "# choose some words to be stemmed \n",
        "words = [\"daylight\", \"great\", \"film\", \"saw\", \"nonmatinee\", \"showing\", \"thought\", \"worth\", \"every\", \"penny\"] \n",
        "  \n",
        "for w in words: \n",
        "    print(w, \" : \", ps.stem(w)) "
      ],
      "execution_count": 56,
      "outputs": [
        {
          "output_type": "stream",
          "text": [
            "daylight  :  daylight\n",
            "great  :  great\n",
            "film  :  film\n",
            "saw  :  saw\n",
            "nonmatinee  :  nonmatine\n",
            "showing  :  show\n",
            "thought  :  thought\n",
            "worth  :  worth\n",
            "every  :  everi\n",
            "penny  :  penni\n"
          ],
          "name": "stdout"
        }
      ]
    },
    {
      "cell_type": "code",
      "metadata": {
        "id": "XzYOCVaWZPl4",
        "colab_type": "code",
        "colab": {
          "base_uri": "https://localhost:8080/",
          "height": 50
        },
        "outputId": "3ea9e2c7-9ceb-422a-9f05-a77af3df4e18"
      },
      "source": [
        "# import the existing word and sentence tokenizing  \n",
        "# libraries \n",
        "  \n",
        "text = \"daylight great film saw nonmatine show thought worth everi penni\" \n",
        "\n",
        "print(sent_tokenize(text))\n",
        "print(word_tokenize(text))"
      ],
      "execution_count": 59,
      "outputs": [
        {
          "output_type": "stream",
          "text": [
            "['daylight great film saw nonmatine show thought worth everi penni']\n",
            "['daylight', 'great', 'film', 'saw', 'nonmatine', 'show', 'thought', 'worth', 'everi', 'penni']\n"
          ],
          "name": "stdout"
        }
      ]
    }
  ]
}